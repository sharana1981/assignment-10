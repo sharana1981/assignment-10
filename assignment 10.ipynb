{
 "cells": [
  {
   "cell_type": "markdown",
   "id": "1f9937a3",
   "metadata": {},
   "source": [
    "# Assignment 10"
   ]
  },
  {
   "cell_type": "raw",
   "id": "ad6c570b",
   "metadata": {},
   "source": [
    "1)shutil.copy() copies only the file while shutil.copytree() copies entire folder along with its content\n",
    "2)rename() is the function used to rename the the file\n",
    "3)send2trash move the file or folder to the recycle bin whereas shutil function will delete the file or folder permanently\n",
    "4)To open a zip file in python we need to import a zipfile module.opening the file in read mode. using the zip module print the directory. After the using the zip module extract all the files present in the directory."
   ]
  },
  {
   "cell_type": "code",
   "execution_count": null,
   "id": "95ee6229",
   "metadata": {},
   "outputs": [],
   "source": [
    "import re\n",
    "import os\n",
    "import shutil\n",
    "\n",
    "filePdf = re.compile(r\"\"\"^(.*?)          #text before extension\n",
    "          [.][p][d][f]                   #extension .pdf\n",
    "          \"\"\", re.VERBOSE)\n",
    "\n",
    "def selectiveCopy(fileExtension):\n",
    "    for pdfFiles in os.listdir(\"/Users//Desktop/newPDFs\"):\n",
    "        locatedFiles = filePdf.search(pdfFiles)\n",
    "        if locatedFiles != None:\n",
    "            print(locatedFiles)\n",
    "            files_to_copy = os.path.join(\"/Users/my_user_name/Desktop/newPDFs\",pdfFiles)   `\n",
    "            shutil.copy(files_to_copy, \"/Users/my_user_name/Desktop/oldPDFs\")   \n",
    "            print(\"The following file has been copied \" + files_to_copy)\n",
    "selectiveCopy(filePdf)"
   ]
  },
  {
   "cell_type": "raw",
   "id": "f2f9ae85",
   "metadata": {},
   "source": []
  }
 ],
 "metadata": {
  "kernelspec": {
   "display_name": "Python 3 (ipykernel)",
   "language": "python",
   "name": "python3"
  },
  "language_info": {
   "codemirror_mode": {
    "name": "ipython",
    "version": 3
   },
   "file_extension": ".py",
   "mimetype": "text/x-python",
   "name": "python",
   "nbconvert_exporter": "python",
   "pygments_lexer": "ipython3",
   "version": "3.9.12"
  }
 },
 "nbformat": 4,
 "nbformat_minor": 5
}
